{
 "cells": [
  {
   "cell_type": "markdown",
   "metadata": {
    "toc": "true"
   },
   "source": [
    "# Table of Contents\n",
    " <p><div class=\"lev2 toc-item\"><a href=\"#Manipulación-de-arrays\" data-toc-modified-id=\"Manipulación-de-arrays-01\"><span class=\"toc-item-num\">0.1&nbsp;&nbsp;</span>Manipulación de arrays</a></div><div class=\"lev2 toc-item\"><a href=\"#Pyplot\" data-toc-modified-id=\"Pyplot-02\"><span class=\"toc-item-num\">0.2&nbsp;&nbsp;</span>Pyplot</a></div><div class=\"lev3 toc-item\"><a href=\"#Opciones-para-graficar\" data-toc-modified-id=\"Opciones-para-graficar-021\"><span class=\"toc-item-num\">0.2.1&nbsp;&nbsp;</span>Opciones para graficar</a></div><div class=\"lev3 toc-item\"><a href=\"#Algo-más-interesante\" data-toc-modified-id=\"Algo-más-interesante-022\"><span class=\"toc-item-num\">0.2.2&nbsp;&nbsp;</span>Algo más interesante</a></div><div class=\"lev2 toc-item\"><a href=\"#NaN\" data-toc-modified-id=\"NaN-03\"><span class=\"toc-item-num\">0.3&nbsp;&nbsp;</span>NaN</a></div>"
   ]
  },
  {
   "cell_type": "code",
   "execution_count": null,
   "metadata": {
    "ExecuteTime": {
     "end_time": "2018-08-23T01:36:33.627642Z",
     "start_time": "2018-08-23T01:36:33.541992Z"
    }
   },
   "outputs": [],
   "source": [
    "# import numpy\n",
    "import numpy as np\n",
    "# from numpy import exp\n",
    "# from numpy import *"
   ]
  },
  {
   "cell_type": "markdown",
   "metadata": {},
   "source": [
    "* La clase `array`\n",
    "* Funciones de álgebra lineal (operaciones matriciales)\n",
    "* Funciones analíticas (exponencial, logarítmica, etc.)\n",
    "* Generadores aleatorios\n",
    "* ..."
   ]
  },
  {
   "cell_type": "code",
   "execution_count": null,
   "metadata": {
    "ExecuteTime": {
     "end_time": "2018-08-23T01:36:57.893322Z",
     "start_time": "2018-08-23T01:36:57.820462Z"
    }
   },
   "outputs": [],
   "source": [
    "np.array([1,2,3,4])"
   ]
  },
  {
   "cell_type": "code",
   "execution_count": null,
   "metadata": {
    "ExecuteTime": {
     "end_time": "2018-08-23T01:39:26.376209Z",
     "start_time": "2018-08-23T01:39:26.358639Z"
    }
   },
   "outputs": [],
   "source": [
    "# np.random.seed(100)\n",
    "np.random.rand(1)"
   ]
  },
  {
   "cell_type": "code",
   "execution_count": null,
   "metadata": {
    "ExecuteTime": {
     "end_time": "2018-08-23T01:40:05.716069Z",
     "start_time": "2018-08-23T01:40:05.711191Z"
    }
   },
   "outputs": [],
   "source": [
    "np.zeros(5)"
   ]
  },
  {
   "cell_type": "code",
   "execution_count": null,
   "metadata": {
    "ExecuteTime": {
     "end_time": "2018-08-23T01:40:13.117238Z",
     "start_time": "2018-08-23T01:40:13.104459Z"
    }
   },
   "outputs": [],
   "source": [
    "np.ones(5)"
   ]
  },
  {
   "cell_type": "code",
   "execution_count": null,
   "metadata": {
    "ExecuteTime": {
     "end_time": "2018-08-23T01:40:41.499953Z",
     "start_time": "2018-08-23T01:40:41.496102Z"
    }
   },
   "outputs": [],
   "source": [
    "np.zeros([5,5])"
   ]
  },
  {
   "cell_type": "code",
   "execution_count": null,
   "metadata": {
    "ExecuteTime": {
     "end_time": "2018-08-23T01:41:07.364611Z",
     "start_time": "2018-08-23T01:41:07.347053Z"
    }
   },
   "outputs": [],
   "source": [
    "np.zeros([3,3,3])"
   ]
  },
  {
   "cell_type": "code",
   "execution_count": null,
   "metadata": {
    "ExecuteTime": {
     "end_time": "2018-08-23T01:41:35.034503Z",
     "start_time": "2018-08-23T01:41:35.017910Z"
    }
   },
   "outputs": [],
   "source": [
    "10*np.ones([2,2])"
   ]
  },
  {
   "cell_type": "markdown",
   "metadata": {},
   "source": [
    "Aplican multiplicaciones matriciales."
   ]
  },
  {
   "cell_type": "code",
   "execution_count": null,
   "metadata": {
    "ExecuteTime": {
     "end_time": "2018-08-23T01:41:54.026688Z",
     "start_time": "2018-08-23T01:41:54.010216Z"
    }
   },
   "outputs": [],
   "source": [
    "A = np.array([[2,1],[3,4]])\n",
    "print(A)"
   ]
  },
  {
   "cell_type": "code",
   "execution_count": null,
   "metadata": {
    "ExecuteTime": {
     "end_time": "2018-08-23T01:42:02.990147Z",
     "start_time": "2018-08-23T01:42:02.986297Z"
    }
   },
   "outputs": [],
   "source": [
    "b = np.transpose(np.array([10,5]))\n",
    "print(b)"
   ]
  },
  {
   "cell_type": "code",
   "execution_count": null,
   "metadata": {
    "ExecuteTime": {
     "end_time": "2018-08-23T01:42:59.200015Z",
     "start_time": "2018-08-23T01:42:59.193030Z"
    }
   },
   "outputs": [],
   "source": [
    "A.dot(b)"
   ]
  },
  {
   "cell_type": "code",
   "execution_count": null,
   "metadata": {
    "ExecuteTime": {
     "end_time": "2018-08-23T01:44:46.362487Z",
     "start_time": "2018-08-23T01:44:46.356430Z"
    }
   },
   "outputs": [],
   "source": [
    "aaa = [\n",
    "    [1, 2, 3, 4],\n",
    "    [5, 6, 7, 8],\n",
    "    [9, 10, 11, 12]\n",
    "]"
   ]
  },
  {
   "cell_type": "code",
   "execution_count": null,
   "metadata": {
    "ExecuteTime": {
     "end_time": "2018-08-23T01:44:49.210582Z",
     "start_time": "2018-08-23T01:44:49.195470Z"
    }
   },
   "outputs": [],
   "source": [
    "aaa"
   ]
  },
  {
   "cell_type": "code",
   "execution_count": null,
   "metadata": {
    "ExecuteTime": {
     "end_time": "2018-08-23T01:44:47.938403Z",
     "start_time": "2018-08-23T01:44:47.922775Z"
    }
   },
   "outputs": [],
   "source": [
    "np.array(aaa)"
   ]
  },
  {
   "cell_type": "markdown",
   "metadata": {},
   "source": [
    "## Manipulación de arrays"
   ]
  },
  {
   "cell_type": "code",
   "execution_count": null,
   "metadata": {
    "ExecuteTime": {
     "end_time": "2018-08-23T01:46:07.939693Z",
     "start_time": "2018-08-23T01:46:07.928350Z"
    }
   },
   "outputs": [],
   "source": [
    "A = np.array(range(0,30))\n",
    "print(A)"
   ]
  },
  {
   "cell_type": "code",
   "execution_count": null,
   "metadata": {
    "ExecuteTime": {
     "end_time": "2018-08-23T01:46:32.701334Z",
     "start_time": "2018-08-23T01:46:32.687464Z"
    }
   },
   "outputs": [],
   "source": [
    "A.shape"
   ]
  },
  {
   "cell_type": "code",
   "execution_count": null,
   "metadata": {
    "ExecuteTime": {
     "end_time": "2018-08-23T01:47:57.898235Z",
     "start_time": "2018-08-23T01:47:57.887562Z"
    }
   },
   "outputs": [],
   "source": [
    "B = A.reshape([6,5])\n",
    "print(B)"
   ]
  },
  {
   "cell_type": "code",
   "execution_count": null,
   "metadata": {
    "ExecuteTime": {
     "end_time": "2018-08-23T01:48:40.124879Z",
     "start_time": "2018-08-23T01:48:40.109625Z"
    }
   },
   "outputs": [],
   "source": [
    "A"
   ]
  },
  {
   "cell_type": "code",
   "execution_count": null,
   "metadata": {
    "ExecuteTime": {
     "end_time": "2018-08-23T01:48:03.831410Z",
     "start_time": "2018-08-23T01:48:03.818753Z"
    }
   },
   "outputs": [],
   "source": [
    "B.shape"
   ]
  },
  {
   "cell_type": "code",
   "execution_count": null,
   "metadata": {
    "ExecuteTime": {
     "end_time": "2018-08-23T01:50:33.593486Z",
     "start_time": "2018-08-23T01:50:33.576650Z"
    }
   },
   "outputs": [],
   "source": [
    "B"
   ]
  },
  {
   "cell_type": "code",
   "execution_count": null,
   "metadata": {
    "ExecuteTime": {
     "end_time": "2018-08-23T01:50:20.282643Z",
     "start_time": "2018-08-23T01:50:20.270285Z"
    }
   },
   "outputs": [],
   "source": [
    "B.transpose()"
   ]
  },
  {
   "cell_type": "code",
   "execution_count": null,
   "metadata": {
    "ExecuteTime": {
     "end_time": "2018-08-23T01:50:53.050839Z",
     "start_time": "2018-08-23T01:50:53.046075Z"
    }
   },
   "outputs": [],
   "source": [
    "B"
   ]
  },
  {
   "cell_type": "markdown",
   "metadata": {},
   "source": [
    "Accediendo"
   ]
  },
  {
   "cell_type": "code",
   "execution_count": null,
   "metadata": {
    "ExecuteTime": {
     "end_time": "2018-08-23T01:52:02.022506Z",
     "start_time": "2018-08-23T01:52:02.016498Z"
    }
   },
   "outputs": [],
   "source": [
    "B[2,1]"
   ]
  },
  {
   "cell_type": "code",
   "execution_count": null,
   "metadata": {
    "ExecuteTime": {
     "end_time": "2018-08-23T01:52:24.849349Z",
     "start_time": "2018-08-23T01:52:24.844122Z"
    }
   },
   "outputs": [],
   "source": [
    "B[1,:]"
   ]
  },
  {
   "cell_type": "code",
   "execution_count": null,
   "metadata": {
    "ExecuteTime": {
     "end_time": "2018-08-23T01:52:35.789305Z",
     "start_time": "2018-08-23T01:52:35.777045Z"
    }
   },
   "outputs": [],
   "source": [
    "B[:,0]"
   ]
  },
  {
   "cell_type": "code",
   "execution_count": null,
   "metadata": {
    "ExecuteTime": {
     "end_time": "2018-08-23T01:52:52.259541Z",
     "start_time": "2018-08-23T01:52:52.244595Z"
    }
   },
   "outputs": [],
   "source": [
    "B[0:3,2:4]"
   ]
  },
  {
   "cell_type": "code",
   "execution_count": null,
   "metadata": {
    "ExecuteTime": {
     "end_time": "2018-08-23T01:53:34.472192Z",
     "start_time": "2018-08-23T01:53:34.457460Z"
    }
   },
   "outputs": [],
   "source": [
    "B[2,2] = 100\n",
    "print(B)"
   ]
  },
  {
   "cell_type": "markdown",
   "metadata": {},
   "source": [
    "Operaciones."
   ]
  },
  {
   "cell_type": "code",
   "execution_count": null,
   "metadata": {
    "ExecuteTime": {
     "end_time": "2018-08-23T01:55:49.988934Z",
     "start_time": "2018-08-23T01:55:49.976449Z"
    }
   },
   "outputs": [],
   "source": [
    "B.sum(axis = 0)"
   ]
  },
  {
   "cell_type": "code",
   "execution_count": null,
   "metadata": {
    "ExecuteTime": {
     "end_time": "2018-08-23T01:56:27.456002Z",
     "start_time": "2018-08-23T01:56:27.443036Z"
    }
   },
   "outputs": [],
   "source": [
    "B.sum(axis = 1)"
   ]
  },
  {
   "cell_type": "code",
   "execution_count": null,
   "metadata": {
    "ExecuteTime": {
     "end_time": "2018-08-23T01:58:15.303326Z",
     "start_time": "2018-08-23T01:58:15.286880Z"
    }
   },
   "outputs": [],
   "source": [
    "B.mean(axis = 0)"
   ]
  },
  {
   "cell_type": "code",
   "execution_count": null,
   "metadata": {
    "ExecuteTime": {
     "end_time": "2018-08-23T01:58:24.051638Z",
     "start_time": "2018-08-23T01:58:24.040883Z"
    }
   },
   "outputs": [],
   "source": [
    "B.max(axis = 0)"
   ]
  },
  {
   "cell_type": "code",
   "execution_count": null,
   "metadata": {
    "ExecuteTime": {
     "end_time": "2018-08-23T01:58:37.710312Z",
     "start_time": "2018-08-23T01:58:37.693883Z"
    }
   },
   "outputs": [],
   "source": [
    "B.argmax(axis = 0)"
   ]
  },
  {
   "cell_type": "code",
   "execution_count": null,
   "metadata": {
    "ExecuteTime": {
     "end_time": "2018-08-23T01:59:25.667543Z",
     "start_time": "2018-08-23T01:59:25.654626Z"
    }
   },
   "outputs": [],
   "source": [
    "B.std(axis = 0)"
   ]
  },
  {
   "cell_type": "code",
   "execution_count": null,
   "metadata": {
    "ExecuteTime": {
     "end_time": "2018-08-23T01:59:49.657713Z",
     "start_time": "2018-08-23T01:59:49.646741Z"
    }
   },
   "outputs": [],
   "source": [
    "B.diagonal()"
   ]
  },
  {
   "cell_type": "code",
   "execution_count": null,
   "metadata": {
    "ExecuteTime": {
     "end_time": "2018-06-26T15:01:33.883213Z",
     "start_time": "2018-06-26T15:01:33.873717Z"
    }
   },
   "outputs": [],
   "source": [
    "aaa=[[1,2],[1,2],[1,2],[1,2]] "
   ]
  },
  {
   "cell_type": "markdown",
   "metadata": {},
   "source": [
    "Más funciones en la documentación de [array](https://docs.scipy.org/doc/numpy/reference/arrays.ndarray.html)"
   ]
  },
  {
   "cell_type": "code",
   "execution_count": null,
   "metadata": {
    "ExecuteTime": {
     "end_time": "2018-08-23T02:02:32.685467Z",
     "start_time": "2018-08-23T02:02:32.669241Z"
    }
   },
   "outputs": [],
   "source": [
    "lista = [\n",
    "    [1, 2],\n",
    "    [2, 5],\n",
    "    [5, 3]\n",
    "]\n",
    "\n",
    "lista\n",
    "\n",
    "# [8, 10]"
   ]
  },
  {
   "cell_type": "markdown",
   "metadata": {
    "solution2": "shown",
    "solution2_first": true
   },
   "source": [
    "**Ejercicio**: Crea una función que implemente la suma de las columnas de una matriz de tamaño (n,2) si la recibieras como una lista\n",
    "\n",
    "[[1,2],[1,2],[1,2],[1,2]] --> [4,8]"
   ]
  },
  {
   "cell_type": "code",
   "execution_count": null,
   "metadata": {
    "ExecuteTime": {
     "end_time": "2018-08-23T02:13:00.073954Z",
     "start_time": "2018-08-23T02:13:00.060305Z"
    },
    "solution2": "shown"
   },
   "outputs": [],
   "source": [
    "def suma_listas(lista):\n",
    "    suma_col1 = 0\n",
    "    suma_col2 = 0\n",
    "    for elemento in lista:\n",
    "        suma_col1 = suma_col1 + elemento[0]\n",
    "        suma_col2 = suma_col2 + elemento[1]\n",
    "    return [suma_col1, suma_col2]"
   ]
  },
  {
   "cell_type": "code",
   "execution_count": null,
   "metadata": {
    "ExecuteTime": {
     "end_time": "2018-08-23T02:13:09.163077Z",
     "start_time": "2018-08-23T02:13:09.148647Z"
    },
    "solution2": "shown"
   },
   "outputs": [],
   "source": [
    "suma_listas(lista)"
   ]
  },
  {
   "cell_type": "code",
   "execution_count": null,
   "metadata": {
    "ExecuteTime": {
     "end_time": "2018-03-13T00:46:12.852171Z",
     "start_time": "2018-03-13T00:46:12.708810Z"
    }
   },
   "outputs": [],
   "source": [
    "# def suma_col(lista):\n",
    "#     suma_col1 = 0\n",
    "#     suma_col2 = 0\n",
    "#     for ren in lista:\n",
    "#         suma_col1 += ren[0]\n",
    "#         suma_col2 += ren[1]\n",
    "#     return [suma_col1, suma_col2]\n",
    "\n",
    "# suma_col([[1,2],[1,2],[1,2],[1,2]])"
   ]
  },
  {
   "cell_type": "code",
   "execution_count": null,
   "metadata": {
    "ExecuteTime": {
     "end_time": "2018-08-23T02:14:52.767131Z",
     "start_time": "2018-08-23T02:14:52.757848Z"
    }
   },
   "outputs": [],
   "source": [
    "import time\n",
    "\n",
    "inicio = time.time()"
   ]
  },
  {
   "cell_type": "code",
   "execution_count": null,
   "metadata": {
    "ExecuteTime": {
     "end_time": "2018-08-23T02:15:38.008086Z",
     "start_time": "2018-08-23T02:15:38.001146Z"
    }
   },
   "outputs": [],
   "source": [
    "time.time() - inicio "
   ]
  },
  {
   "cell_type": "code",
   "execution_count": null,
   "metadata": {
    "ExecuteTime": {
     "end_time": "2018-08-23T02:16:23.458887Z",
     "start_time": "2018-08-23T02:16:22.437229Z"
    }
   },
   "outputs": [],
   "source": [
    "import time\n",
    "\n",
    "inicio = time.time()\n",
    "\n",
    "time.sleep(1)\n",
    "\n",
    "time.time() - inicio"
   ]
  },
  {
   "cell_type": "code",
   "execution_count": null,
   "metadata": {
    "ExecuteTime": {
     "end_time": "2018-08-23T02:17:03.439461Z",
     "start_time": "2018-08-23T02:17:03.421325Z"
    }
   },
   "outputs": [],
   "source": [
    "[[1,2] for x in range(0,10)]"
   ]
  },
  {
   "cell_type": "code",
   "execution_count": null,
   "metadata": {
    "ExecuteTime": {
     "end_time": "2018-08-23T02:23:49.422780Z",
     "start_time": "2018-08-23T02:23:49.412409Z"
    }
   },
   "outputs": [],
   "source": [
    "n = 30\n",
    "lista_larga = [[1,2] for i in range(0,n)]\n",
    "arreglo_largo = np.array(lista_larga)"
   ]
  },
  {
   "cell_type": "code",
   "execution_count": null,
   "metadata": {
    "ExecuteTime": {
     "end_time": "2018-08-23T02:17:49.170581Z",
     "start_time": "2018-08-23T02:17:49.157390Z"
    }
   },
   "outputs": [],
   "source": [
    "len(lista_larga)"
   ]
  },
  {
   "cell_type": "code",
   "execution_count": null,
   "metadata": {
    "ExecuteTime": {
     "end_time": "2018-08-23T02:18:03.599209Z",
     "start_time": "2018-08-23T02:18:03.583955Z"
    }
   },
   "outputs": [],
   "source": [
    "arreglo_largo.shape"
   ]
  },
  {
   "cell_type": "code",
   "execution_count": null,
   "metadata": {
    "ExecuteTime": {
     "end_time": "2018-08-23T02:18:22.805407Z",
     "start_time": "2018-08-23T02:18:22.619265Z"
    }
   },
   "outputs": [],
   "source": [
    "inicio = time.time()\n",
    "print(suma_listas(lista_larga))\n",
    "time.time() - inicio"
   ]
  },
  {
   "cell_type": "code",
   "execution_count": null,
   "metadata": {
    "ExecuteTime": {
     "end_time": "2018-08-23T02:18:26.530407Z",
     "start_time": "2018-08-23T02:18:26.498433Z"
    }
   },
   "outputs": [],
   "source": [
    "inicio = time.time()\n",
    "print(arreglo_largo.sum(axis = 0))\n",
    "time.time() - inicio"
   ]
  },
  {
   "cell_type": "markdown",
   "metadata": {
    "solution2": "shown",
    "solution2_first": true
   },
   "source": [
    "**Ejercicio**: Obtén los tiempos que se tarda cada forma de obtener la suma de las columnas variando el número de renglones de 10 en 10 desde 1 hasta 10000 en 2 listas `tiempo_lista` y `tiempo_array`."
   ]
  },
  {
   "cell_type": "code",
   "execution_count": null,
   "metadata": {
    "ExecuteTime": {
     "end_time": "2018-08-23T02:29:35.623495Z",
     "start_time": "2018-08-23T02:29:35.590867Z"
    }
   },
   "outputs": [],
   "source": [
    "[x*10 for x in range(1,1000)]"
   ]
  },
  {
   "cell_type": "code",
   "execution_count": null,
   "metadata": {
    "ExecuteTime": {
     "end_time": "2018-08-23T02:31:57.399712Z",
     "start_time": "2018-08-23T02:31:54.482674Z"
    },
    "solution2": "shown"
   },
   "outputs": [],
   "source": [
    "tiempo_lista = []\n",
    "tiempo_array = []\n",
    "\n",
    "for n in [x*10 for x in range(1,1000)]:\n",
    "    # Se crean la lista y el arreglo\n",
    "    lista = [[1,2] for x in range(0,n)]\n",
    "    arreglo = np.array(lista)\n",
    "    \n",
    "    # Tiempo de la lista\n",
    "    inicio = time.time()\n",
    "    suma_listas(lista)\n",
    "    tiempo_lista.append(time.time() - inicio)\n",
    "    \n",
    "    # Tiempo del arreglo\n",
    "    inicio = time.time()\n",
    "    arreglo.sum(axis = 0)\n",
    "    tiempo_array.append(time.time() - inicio)"
   ]
  },
  {
   "cell_type": "code",
   "execution_count": null,
   "metadata": {
    "ExecuteTime": {
     "end_time": "2018-08-23T02:32:16.645246Z",
     "start_time": "2018-08-23T02:32:16.632086Z"
    }
   },
   "outputs": [],
   "source": [
    "tiempo_lista[0:10]"
   ]
  },
  {
   "cell_type": "markdown",
   "metadata": {
    "ExecuteTime": {
     "end_time": "2017-09-09T05:06:25.241185Z",
     "start_time": "2017-09-09T05:06:25.199126Z"
    }
   },
   "source": [
    "## Pyplot"
   ]
  },
  {
   "cell_type": "markdown",
   "metadata": {},
   "source": [
    "La librería para graficar en python es matplotlib. De aquí usaremos pyplot."
   ]
  },
  {
   "cell_type": "code",
   "execution_count": null,
   "metadata": {
    "ExecuteTime": {
     "end_time": "2018-08-23T02:35:09.806182Z",
     "start_time": "2018-08-23T02:35:08.140911Z"
    }
   },
   "outputs": [],
   "source": [
    "import matplotlib.pyplot as plt"
   ]
  },
  {
   "cell_type": "code",
   "execution_count": null,
   "metadata": {
    "ExecuteTime": {
     "end_time": "2018-08-23T02:35:34.554820Z",
     "start_time": "2018-08-23T02:35:34.403343Z"
    }
   },
   "outputs": [],
   "source": [
    "plt.plot(tiempo_lista)"
   ]
  },
  {
   "cell_type": "code",
   "execution_count": null,
   "metadata": {
    "ExecuteTime": {
     "end_time": "2018-08-23T02:35:51.081714Z",
     "start_time": "2018-08-23T02:35:50.672012Z"
    }
   },
   "outputs": [],
   "source": [
    "plt.show()"
   ]
  },
  {
   "cell_type": "markdown",
   "metadata": {},
   "source": [
    "¡La lista se vuelve muy cara! El array es más eficiente."
   ]
  },
  {
   "cell_type": "code",
   "execution_count": null,
   "metadata": {
    "ExecuteTime": {
     "end_time": "2018-08-23T02:40:39.375924Z",
     "start_time": "2018-08-23T02:40:39.186422Z"
    }
   },
   "outputs": [],
   "source": [
    "plt.plot(tiempo_array, 'b')\n",
    "plt.plot(tiempo_lista, 'r')\n",
    "plt.show()"
   ]
  },
  {
   "cell_type": "markdown",
   "metadata": {},
   "source": [
    "### Opciones para graficar"
   ]
  },
  {
   "cell_type": "code",
   "execution_count": null,
   "metadata": {
    "ExecuteTime": {
     "end_time": "2018-08-23T02:41:08.818104Z",
     "start_time": "2018-08-23T02:41:08.807234Z"
    }
   },
   "outputs": [],
   "source": [
    "np.linspace(0, 1, 11)"
   ]
  },
  {
   "cell_type": "code",
   "execution_count": null,
   "metadata": {
    "ExecuteTime": {
     "end_time": "2018-08-23T02:44:36.160793Z",
     "start_time": "2018-08-23T02:44:36.144430Z"
    }
   },
   "outputs": [],
   "source": [
    "x = np.linspace(0, np.pi * 2, 100)\n",
    "print(x[0:10])"
   ]
  },
  {
   "cell_type": "code",
   "execution_count": null,
   "metadata": {
    "ExecuteTime": {
     "end_time": "2018-08-23T02:44:01.441731Z",
     "start_time": "2018-08-23T02:44:01.438036Z"
    }
   },
   "outputs": [],
   "source": [
    "np.pi"
   ]
  },
  {
   "cell_type": "code",
   "execution_count": null,
   "metadata": {
    "ExecuteTime": {
     "end_time": "2018-08-23T02:42:35.487042Z",
     "start_time": "2018-08-23T02:42:35.472141Z"
    },
    "run_control": {
     "marked": false
    }
   },
   "outputs": [],
   "source": [
    "y = np.sin(x)\n",
    "print(y[0:10])"
   ]
  },
  {
   "cell_type": "code",
   "execution_count": null,
   "metadata": {
    "ExecuteTime": {
     "end_time": "2018-08-23T02:46:15.087346Z",
     "start_time": "2018-08-23T02:46:14.929749Z"
    }
   },
   "outputs": [],
   "source": [
    "plt.plot(x, y)\n",
    "plt.show()"
   ]
  },
  {
   "cell_type": "code",
   "execution_count": null,
   "metadata": {
    "ExecuteTime": {
     "end_time": "2018-08-23T02:46:47.795646Z",
     "start_time": "2018-08-23T02:46:47.619944Z"
    }
   },
   "outputs": [],
   "source": [
    "plt.plot(x, y, 'b')\n",
    "plt.show()"
   ]
  },
  {
   "cell_type": "code",
   "execution_count": null,
   "metadata": {
    "ExecuteTime": {
     "end_time": "2018-08-23T02:46:54.756928Z",
     "start_time": "2018-08-23T02:46:54.574063Z"
    }
   },
   "outputs": [],
   "source": [
    "plt.plot(x, y, 'r.')\n",
    "plt.show()"
   ]
  },
  {
   "cell_type": "code",
   "execution_count": null,
   "metadata": {
    "ExecuteTime": {
     "end_time": "2018-08-23T02:47:22.298808Z",
     "start_time": "2018-08-23T02:47:22.081803Z"
    }
   },
   "outputs": [],
   "source": [
    "plt.plot(x, y, 'r.')\n",
    "plt.plot(x, np.cos(x), 'b--')\n",
    "plt.show()"
   ]
  },
  {
   "cell_type": "code",
   "execution_count": null,
   "metadata": {},
   "outputs": [],
   "source": [
    "np.log()\n",
    "no.exp()"
   ]
  },
  {
   "cell_type": "markdown",
   "metadata": {
    "solution2": "hidden",
    "solution2_first": true
   },
   "source": [
    "**Ejercicio**: Grafica la función exponencial y logaritmo entre 0 y 2."
   ]
  },
  {
   "cell_type": "code",
   "execution_count": null,
   "metadata": {
    "ExecuteTime": {
     "end_time": "2018-06-26T15:34:33.525044Z",
     "start_time": "2018-06-26T15:34:33.358472Z"
    },
    "solution2": "hidden"
   },
   "outputs": [],
   "source": [
    "x = np.linspace(0,2,100)\n",
    "plt.plot(x, np.log(x), 'r-')\n",
    "plt.plot(x, np.exp(x), 'b-')\n",
    "plt.show()"
   ]
  },
  {
   "cell_type": "markdown",
   "metadata": {},
   "source": [
    "### Algo más interesante"
   ]
  },
  {
   "cell_type": "markdown",
   "metadata": {},
   "source": [
    "Datos de [delitos en Canada](https://raw.githubusercontent.com/vincentarelbundock/Rdatasets/master/csv/car/Hartnagel.csv) en https://vincentarelbundock.github.io/Rdatasets/datasets.html"
   ]
  },
  {
   "cell_type": "code",
   "execution_count": null,
   "metadata": {
    "ExecuteTime": {
     "end_time": "2018-06-26T15:40:21.506957Z",
     "start_time": "2018-06-26T15:40:21.464323Z"
    }
   },
   "outputs": [],
   "source": [
    "with open('datos/Hartnagel.csv') as f:\n",
    "    delitos = f.readlines()\n",
    "    \n",
    "delitos[0:5]"
   ]
  },
  {
   "cell_type": "code",
   "execution_count": null,
   "metadata": {
    "ExecuteTime": {
     "end_time": "2018-06-26T15:42:11.413206Z",
     "start_time": "2018-06-26T15:42:11.399170Z"
    }
   },
   "outputs": [],
   "source": [
    "delitos[0]"
   ]
  },
  {
   "cell_type": "code",
   "execution_count": null,
   "metadata": {
    "ExecuteTime": {
     "end_time": "2018-06-26T15:43:26.829571Z",
     "start_time": "2018-06-26T15:43:26.813505Z"
    },
    "scrolled": true
   },
   "outputs": [],
   "source": [
    "delitos[0].split(',')"
   ]
  },
  {
   "cell_type": "code",
   "execution_count": null,
   "metadata": {
    "ExecuteTime": {
     "end_time": "2018-06-26T15:44:00.491897Z",
     "start_time": "2018-06-26T15:44:00.479524Z"
    }
   },
   "outputs": [],
   "source": [
    "delitos[1].split(',')[1]"
   ]
  },
  {
   "cell_type": "code",
   "execution_count": null,
   "metadata": {
    "ExecuteTime": {
     "end_time": "2018-06-26T15:44:34.620353Z",
     "start_time": "2018-06-26T15:44:34.606372Z"
    }
   },
   "outputs": [],
   "source": [
    "delitos[12].split(',')[1]"
   ]
  },
  {
   "cell_type": "code",
   "execution_count": null,
   "metadata": {
    "ExecuteTime": {
     "end_time": "2018-06-26T15:45:47.881934Z",
     "start_time": "2018-06-26T15:45:47.877271Z"
    }
   },
   "outputs": [],
   "source": [
    "len(delitos)"
   ]
  },
  {
   "cell_type": "code",
   "execution_count": null,
   "metadata": {
    "ExecuteTime": {
     "end_time": "2018-06-26T15:45:49.494082Z",
     "start_time": "2018-06-26T15:45:49.478364Z"
    }
   },
   "outputs": [],
   "source": [
    "anio = []\n",
    "mconvict = []\n",
    "fconvict = []\n",
    "for i in range(1, len(delitos)):\n",
    "    anio.append(delitos[i].split(',')[1])\n",
    "    mconvict.append(delitos[i].split(',')[7])\n",
    "    fconvict.append(delitos[i].split(',')[5])"
   ]
  },
  {
   "cell_type": "code",
   "execution_count": null,
   "metadata": {
    "ExecuteTime": {
     "end_time": "2018-06-26T15:45:55.824233Z",
     "start_time": "2018-06-26T15:45:55.820371Z"
    }
   },
   "outputs": [],
   "source": [
    "np.array(anio[0:5])"
   ]
  },
  {
   "cell_type": "code",
   "execution_count": null,
   "metadata": {
    "ExecuteTime": {
     "end_time": "2018-06-26T15:46:38.798336Z",
     "start_time": "2018-06-26T15:46:38.782494Z"
    }
   },
   "outputs": [],
   "source": [
    "np.array(anio, dtype=int)"
   ]
  },
  {
   "cell_type": "code",
   "execution_count": null,
   "metadata": {
    "ExecuteTime": {
     "end_time": "2018-06-26T15:48:11.826142Z",
     "start_time": "2018-06-26T15:48:11.810931Z"
    }
   },
   "outputs": [],
   "source": [
    "np.array(mconvict)"
   ]
  },
  {
   "cell_type": "code",
   "execution_count": null,
   "metadata": {
    "ExecuteTime": {
     "end_time": "2018-06-26T15:48:44.362183Z",
     "start_time": "2018-06-26T15:48:44.349092Z"
    }
   },
   "outputs": [],
   "source": [
    "np.array(mconvict, dtype=np.double)"
   ]
  },
  {
   "cell_type": "code",
   "execution_count": null,
   "metadata": {
    "ExecuteTime": {
     "end_time": "2018-06-26T15:50:49.488486Z",
     "start_time": "2018-06-26T15:50:49.476601Z"
    }
   },
   "outputs": [],
   "source": [
    "anio = np.array(anio, dtype=int)\n",
    "mconvict = np.array(mconvict, dtype=np.double)\n",
    "fconvict = np.array(fconvict, dtype=np.double)"
   ]
  },
  {
   "cell_type": "code",
   "execution_count": null,
   "metadata": {
    "ExecuteTime": {
     "end_time": "2018-06-26T15:50:51.591584Z",
     "start_time": "2018-06-26T15:50:51.574148Z"
    }
   },
   "outputs": [],
   "source": [
    "anio"
   ]
  },
  {
   "cell_type": "code",
   "execution_count": null,
   "metadata": {
    "ExecuteTime": {
     "end_time": "2018-06-26T15:51:01.965077Z",
     "start_time": "2018-06-26T15:51:01.791503Z"
    }
   },
   "outputs": [],
   "source": [
    "# import matplotlib.pyplot as plt\n",
    "plt.plot(anio, mconvict, 'r')\n",
    "plt.show()"
   ]
  },
  {
   "cell_type": "code",
   "execution_count": null,
   "metadata": {
    "ExecuteTime": {
     "end_time": "2018-06-26T15:51:44.731504Z",
     "start_time": "2018-06-26T15:51:44.540830Z"
    }
   },
   "outputs": [],
   "source": [
    "plt.plot(anio, mconvict, 'r.-')\n",
    "plt.show()"
   ]
  },
  {
   "cell_type": "code",
   "execution_count": null,
   "metadata": {
    "ExecuteTime": {
     "end_time": "2018-06-26T15:51:53.738719Z",
     "start_time": "2018-06-26T15:51:53.579652Z"
    }
   },
   "outputs": [],
   "source": [
    "plt.plot(anio, mconvict, 'r.-')\n",
    "plt.plot(anio, fconvict, 'b.-')\n",
    "plt.show()"
   ]
  },
  {
   "cell_type": "code",
   "execution_count": null,
   "metadata": {
    "ExecuteTime": {
     "end_time": "2018-06-26T15:52:22.781972Z",
     "start_time": "2018-06-26T15:52:22.551525Z"
    }
   },
   "outputs": [],
   "source": [
    "plt.plot(anio, mconvict, 'r.-', label = 'Male convictions')\n",
    "plt.plot(anio, fconvict, 'b.-', label = 'Female convictions')\n",
    "plt.show()"
   ]
  },
  {
   "cell_type": "code",
   "execution_count": null,
   "metadata": {
    "ExecuteTime": {
     "end_time": "2018-06-26T15:53:45.724274Z",
     "start_time": "2018-06-26T15:53:45.533510Z"
    }
   },
   "outputs": [],
   "source": [
    "plt.plot(anio, mconvict, 'r.-', label = 'Sentencias de hombres')\n",
    "plt.plot(anio, fconvict, 'b.-', label = 'Sentencias de mujeres')\n",
    "plt.legend()\n",
    "plt.show()"
   ]
  },
  {
   "cell_type": "code",
   "execution_count": null,
   "metadata": {
    "ExecuteTime": {
     "end_time": "2018-06-26T15:53:56.792765Z",
     "start_time": "2018-06-26T15:53:56.554158Z"
    }
   },
   "outputs": [],
   "source": [
    "plt.plot(anio, mconvict, 'r.-', label = 'Sentencias de hombres')\n",
    "plt.plot(anio, fconvict, 'b.-', label = 'Sentencias de mujeres')\n",
    "plt.legend()\n",
    "plt.title('Condenas en Canadá por año')\n",
    "plt.show()"
   ]
  },
  {
   "cell_type": "code",
   "execution_count": null,
   "metadata": {
    "ExecuteTime": {
     "end_time": "2018-06-26T15:54:40.350241Z",
     "start_time": "2018-06-26T15:54:40.155934Z"
    }
   },
   "outputs": [],
   "source": [
    "plt.plot(anio, np.log(mconvict), 'r.-', label = 'Sentencias de hombres')\n",
    "plt.plot(anio, np.log(fconvict), 'b.-', label = 'Sentencias de mujeres')\n",
    "plt.legend()\n",
    "plt.title('Sentencias en Canadá por año (escala logarítmica)')\n",
    "plt.show()"
   ]
  },
  {
   "cell_type": "code",
   "execution_count": null,
   "metadata": {
    "ExecuteTime": {
     "end_time": "2018-06-26T16:00:53.667435Z",
     "start_time": "2018-06-26T16:00:53.274979Z"
    }
   },
   "outputs": [],
   "source": [
    "plt.subplot(2,2,1)\n",
    "plt.plot(anio, mconvict, 'r.-')\n",
    "plt.title('Male conv')\n",
    "plt.xlabel('Año')\n",
    "\n",
    "plt.subplot(2,2,2)\n",
    "plt.plot(anio, fconvict, 'b.-')\n",
    "plt.title('Female conv')\n",
    "plt.xlabel('Año')\n",
    "\n",
    "plt.subplot(2,2,3)\n",
    "plt.plot(anio, fconvict, 'g.-')\n",
    "plt.title('Female conv')\n",
    "plt.xlabel('Año')\n",
    "\n",
    "plt.subplot(2,2,4)\n",
    "plt.plot(anio, mconvict, 'k.-')\n",
    "plt.title('Female conv')\n",
    "plt.xlabel('Año')\n",
    "\n",
    "plt.show()"
   ]
  },
  {
   "cell_type": "code",
   "execution_count": null,
   "metadata": {
    "ExecuteTime": {
     "end_time": "2018-06-26T15:57:04.460136Z",
     "start_time": "2018-06-26T15:57:04.246997Z"
    }
   },
   "outputs": [],
   "source": [
    "plt.plot(anio, np.log(mconvict), 'r.-', label = 'Male convictions')\n",
    "plt.plot(anio, np.log(fconvict), 'b.-', label = 'Female convictions')\n",
    "plt.legend()\n",
    "plt.xlabel('Año')\n",
    "plt.ylabel('Condenas (log)')\n",
    "plt.title('Condenas en Canadá por año (escala logarítmica)')\n",
    "plt.show()"
   ]
  },
  {
   "cell_type": "code",
   "execution_count": null,
   "metadata": {
    "ExecuteTime": {
     "end_time": "2018-06-22T16:26:09.334002Z",
     "start_time": "2018-06-22T16:26:09.077098Z"
    }
   },
   "outputs": [],
   "source": [
    "plt.subplot(1,2,1)\n",
    "plt.plot(anio, np.log(mconvict), 'r.-')\n",
    "plt.title('Male conv')\n",
    "plt.xlabel('Año')\n",
    "plt.ylim([3, 7])\n",
    "\n",
    "plt.subplot(1,2,2)\n",
    "plt.plot(anio, np.log(fconvict), 'r.-')\n",
    "plt.title('Female conv')\n",
    "plt.ylim([3, 7])\n",
    "\n",
    "plt.show()"
   ]
  },
  {
   "cell_type": "code",
   "execution_count": null,
   "metadata": {
    "ExecuteTime": {
     "end_time": "2018-03-13T02:22:54.206462Z",
     "start_time": "2018-03-13T02:22:54.200273Z"
    }
   },
   "outputs": [],
   "source": [
    "x = np.linspace(0,2,100)"
   ]
  },
  {
   "cell_type": "code",
   "execution_count": null,
   "metadata": {
    "ExecuteTime": {
     "end_time": "2018-03-13T02:22:56.622197Z",
     "start_time": "2018-03-13T02:22:56.206742Z"
    }
   },
   "outputs": [],
   "source": [
    "plt.subplot(2, 2, 1)\n",
    "plt.plot(x, np.log(x))\n",
    "plt.title('logaritmo')\n",
    "\n",
    "plt.subplot(2, 2, 2)\n",
    "plt.plot(x, np.exp(x))\n",
    "plt.title('exponencial')\n",
    "\n",
    "plt.subplot(2, 2, 3)\n",
    "plt.plot(x, np.cos(x))\n",
    "plt.title('coseno')\n",
    "\n",
    "plt.subplot(2, 2, 4)\n",
    "plt.plot(x, np.sin(x))\n",
    "plt.title('seno')\n",
    "\n",
    "plt.show()"
   ]
  },
  {
   "cell_type": "code",
   "execution_count": null,
   "metadata": {
    "ExecuteTime": {
     "end_time": "2018-03-13T02:23:49.514070Z",
     "start_time": "2018-03-13T02:23:49.493058Z"
    }
   },
   "outputs": [],
   "source": [
    "with open('datos/Hartnagel.csv') as f:\n",
    "    delitos = f.readlines()\n",
    "    \n",
    "anio = []\n",
    "mconvict = []\n",
    "fconvict = []\n",
    "for i in range(1, len(delitos)):\n",
    "    anio.append(delitos[i].split(',')[1])\n",
    "    mconvict.append(delitos[i].split(',')[7])\n",
    "    fconvict.append(delitos[i].split(',')[5])\n",
    "\n",
    "anio = np.array(anio, dtype=int)\n",
    "mconvict = np.array(mconvict, dtype=np.double)\n",
    "fconvict = np.array(fconvict, dtype=np.double)"
   ]
  },
  {
   "cell_type": "markdown",
   "metadata": {
    "collapsed": true
   },
   "source": [
    "## NaN"
   ]
  },
  {
   "cell_type": "code",
   "execution_count": null,
   "metadata": {
    "ExecuteTime": {
     "end_time": "2018-06-26T16:02:38.353198Z",
     "start_time": "2018-06-26T16:02:38.339053Z"
    }
   },
   "outputs": [],
   "source": [
    "np.nan"
   ]
  },
  {
   "cell_type": "code",
   "execution_count": null,
   "metadata": {
    "ExecuteTime": {
     "end_time": "2018-06-26T16:04:22.974529Z",
     "start_time": "2018-06-26T16:04:22.954822Z"
    }
   },
   "outputs": [],
   "source": [
    "arreglo_nan = np.array([1.1, 2, 15.4, np.nan, 10])\n",
    "arreglo_nan"
   ]
  },
  {
   "cell_type": "code",
   "execution_count": null,
   "metadata": {
    "ExecuteTime": {
     "end_time": "2018-06-26T16:06:54.048736Z",
     "start_time": "2018-06-26T16:06:54.041437Z"
    }
   },
   "outputs": [],
   "source": [
    "~np.isnan(arreglo_nan)"
   ]
  },
  {
   "cell_type": "code",
   "execution_count": null,
   "metadata": {
    "ExecuteTime": {
     "end_time": "2018-06-26T16:07:15.845090Z",
     "start_time": "2018-06-26T16:07:15.832242Z"
    }
   },
   "outputs": [],
   "source": [
    "arreglo_nan[~np.isnan(arreglo_nan)]"
   ]
  }
 ],
 "metadata": {
  "kernelspec": {
   "display_name": "Python 3",
   "language": "python",
   "name": "python3"
  },
  "language_info": {
   "codemirror_mode": {
    "name": "ipython",
    "version": 3
   },
   "file_extension": ".py",
   "mimetype": "text/x-python",
   "name": "python",
   "nbconvert_exporter": "python",
   "pygments_lexer": "ipython3",
   "version": "3.7.1"
  },
  "toc": {
   "colors": {
    "hover_highlight": "#DAA520",
    "running_highlight": "#FF0000",
    "selected_highlight": "#FFD700"
   },
   "moveMenuLeft": true,
   "nav_menu": {
    "height": "84px",
    "width": "252px"
   },
   "navigate_menu": true,
   "number_sections": true,
   "sideBar": true,
   "threshold": 4,
   "toc_cell": true,
   "toc_position": {
    "height": "523px",
    "left": "0px",
    "right": "1073px",
    "top": "106px",
    "width": "207px"
   },
   "toc_section_display": "block",
   "toc_window_display": false,
   "widenNotebook": false
  }
 },
 "nbformat": 4,
 "nbformat_minor": 2
}
